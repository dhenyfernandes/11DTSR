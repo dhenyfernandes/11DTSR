{
 "cells": [
  {
   "cell_type": "markdown",
   "id": "56cf7b80-5dad-4250-abd5-112cb1dce2a3",
   "metadata": {},
   "source": [
    "# Exercícios - comparando LightGBM e XGBoost"
   ]
  },
  {
   "cell_type": "code",
   "execution_count": 1,
   "id": "6aa10c1f-91ff-47be-a603-e7b7afd6d074",
   "metadata": {},
   "outputs": [],
   "source": [
    "# bibliotecas\n",
    "import numpy as np \n",
    "import pandas as pd \n",
    "import lightgbm as lgbm\n",
    "import xgboost as xgb\n",
    "from xgboost import XGBClassifier\n",
    "from lightgbm import LGBMClassifier\n",
    "from sklearn.model_selection import train_test_split\n",
    "from sklearn.metrics import accuracy_score\n",
    "from sklearn.model_selection import GridSearchCV, RandomizedSearchCV, StratifiedKFold, cross_val_score\n",
    "from datetime import datetime\n",
    "import warnings\n",
    "warnings.filterwarnings(\"ignore\")\n",
    "warnings.simplefilter(action='ignore', category=FutureWarning)"
   ]
  },
  {
   "cell_type": "code",
   "execution_count": 2,
   "id": "e7feee78-2e63-40e5-be58-fd94787b1a57",
   "metadata": {},
   "outputs": [
    {
     "data": {
      "text/html": [
       "<div>\n",
       "<style scoped>\n",
       "    .dataframe tbody tr th:only-of-type {\n",
       "        vertical-align: middle;\n",
       "    }\n",
       "\n",
       "    .dataframe tbody tr th {\n",
       "        vertical-align: top;\n",
       "    }\n",
       "\n",
       "    .dataframe thead th {\n",
       "        text-align: right;\n",
       "    }\n",
       "</style>\n",
       "<table border=\"1\" class=\"dataframe\">\n",
       "  <thead>\n",
       "    <tr style=\"text-align: right;\">\n",
       "      <th></th>\n",
       "      <th>age</th>\n",
       "      <th>workclass</th>\n",
       "      <th>fnlwgt</th>\n",
       "      <th>education</th>\n",
       "      <th>education-num</th>\n",
       "      <th>marital-status</th>\n",
       "      <th>occupation</th>\n",
       "      <th>relationship</th>\n",
       "      <th>race</th>\n",
       "      <th>sex</th>\n",
       "      <th>capital-gain</th>\n",
       "      <th>capital-loss</th>\n",
       "      <th>hours-per-week</th>\n",
       "      <th>native-country</th>\n",
       "      <th>income</th>\n",
       "    </tr>\n",
       "  </thead>\n",
       "  <tbody>\n",
       "    <tr>\n",
       "      <th>0</th>\n",
       "      <td>39</td>\n",
       "      <td>State-gov</td>\n",
       "      <td>77516</td>\n",
       "      <td>Bachelors</td>\n",
       "      <td>13</td>\n",
       "      <td>Never-married</td>\n",
       "      <td>Adm-clerical</td>\n",
       "      <td>Not-in-family</td>\n",
       "      <td>White</td>\n",
       "      <td>Male</td>\n",
       "      <td>2174</td>\n",
       "      <td>0</td>\n",
       "      <td>40</td>\n",
       "      <td>United-States</td>\n",
       "      <td>&lt;=50K</td>\n",
       "    </tr>\n",
       "    <tr>\n",
       "      <th>1</th>\n",
       "      <td>50</td>\n",
       "      <td>Self-emp-not-inc</td>\n",
       "      <td>83311</td>\n",
       "      <td>Bachelors</td>\n",
       "      <td>13</td>\n",
       "      <td>Married-civ-spouse</td>\n",
       "      <td>Exec-managerial</td>\n",
       "      <td>Husband</td>\n",
       "      <td>White</td>\n",
       "      <td>Male</td>\n",
       "      <td>0</td>\n",
       "      <td>0</td>\n",
       "      <td>13</td>\n",
       "      <td>United-States</td>\n",
       "      <td>&lt;=50K</td>\n",
       "    </tr>\n",
       "    <tr>\n",
       "      <th>2</th>\n",
       "      <td>38</td>\n",
       "      <td>Private</td>\n",
       "      <td>215646</td>\n",
       "      <td>HS-grad</td>\n",
       "      <td>9</td>\n",
       "      <td>Divorced</td>\n",
       "      <td>Handlers-cleaners</td>\n",
       "      <td>Not-in-family</td>\n",
       "      <td>White</td>\n",
       "      <td>Male</td>\n",
       "      <td>0</td>\n",
       "      <td>0</td>\n",
       "      <td>40</td>\n",
       "      <td>United-States</td>\n",
       "      <td>&lt;=50K</td>\n",
       "    </tr>\n",
       "    <tr>\n",
       "      <th>3</th>\n",
       "      <td>53</td>\n",
       "      <td>Private</td>\n",
       "      <td>234721</td>\n",
       "      <td>11th</td>\n",
       "      <td>7</td>\n",
       "      <td>Married-civ-spouse</td>\n",
       "      <td>Handlers-cleaners</td>\n",
       "      <td>Husband</td>\n",
       "      <td>Black</td>\n",
       "      <td>Male</td>\n",
       "      <td>0</td>\n",
       "      <td>0</td>\n",
       "      <td>40</td>\n",
       "      <td>United-States</td>\n",
       "      <td>&lt;=50K</td>\n",
       "    </tr>\n",
       "    <tr>\n",
       "      <th>4</th>\n",
       "      <td>28</td>\n",
       "      <td>Private</td>\n",
       "      <td>338409</td>\n",
       "      <td>Bachelors</td>\n",
       "      <td>13</td>\n",
       "      <td>Married-civ-spouse</td>\n",
       "      <td>Prof-specialty</td>\n",
       "      <td>Wife</td>\n",
       "      <td>Black</td>\n",
       "      <td>Female</td>\n",
       "      <td>0</td>\n",
       "      <td>0</td>\n",
       "      <td>40</td>\n",
       "      <td>Cuba</td>\n",
       "      <td>&lt;=50K</td>\n",
       "    </tr>\n",
       "  </tbody>\n",
       "</table>\n",
       "</div>"
      ],
      "text/plain": [
       "   age          workclass  fnlwgt   education  education-num  \\\n",
       "0   39          State-gov   77516   Bachelors             13   \n",
       "1   50   Self-emp-not-inc   83311   Bachelors             13   \n",
       "2   38            Private  215646     HS-grad              9   \n",
       "3   53            Private  234721        11th              7   \n",
       "4   28            Private  338409   Bachelors             13   \n",
       "\n",
       "        marital-status          occupation    relationship    race      sex  \\\n",
       "0        Never-married        Adm-clerical   Not-in-family   White     Male   \n",
       "1   Married-civ-spouse     Exec-managerial         Husband   White     Male   \n",
       "2             Divorced   Handlers-cleaners   Not-in-family   White     Male   \n",
       "3   Married-civ-spouse   Handlers-cleaners         Husband   Black     Male   \n",
       "4   Married-civ-spouse      Prof-specialty            Wife   Black   Female   \n",
       "\n",
       "   capital-gain  capital-loss  hours-per-week  native-country  income  \n",
       "0          2174             0              40   United-States   <=50K  \n",
       "1             0             0              13   United-States   <=50K  \n",
       "2             0             0              40   United-States   <=50K  \n",
       "3             0             0              40   United-States   <=50K  \n",
       "4             0             0              40            Cuba   <=50K  "
      ]
     },
     "execution_count": 2,
     "metadata": {},
     "output_type": "execute_result"
    }
   ],
   "source": [
    "# dataset\n",
    "df_census = pd.read_csv('https://archive.ics.uci.edu/ml/machine-learning-databases/adult/adult.data', header=None)\n",
    "df_census.columns = ['age', 'workclass', 'fnlwgt', 'education', 'education-num', 'marital-status', 'occupation',\n",
    "                  'relationship', 'race', 'sex', 'capital-gain', 'capital-loss', 'hours-per-week', 'native-country', \n",
    "                   'income']\n",
    "df_census.head()"
   ]
  },
  {
   "cell_type": "code",
   "execution_count": 3,
   "id": "fe564cb8-4037-430b-be74-dabd4a3d24d5",
   "metadata": {},
   "outputs": [
    {
     "name": "stdout",
     "output_type": "stream",
     "text": [
      "<class 'pandas.core.frame.DataFrame'>\n",
      "RangeIndex: 32561 entries, 0 to 32560\n",
      "Data columns (total 15 columns):\n",
      " #   Column          Non-Null Count  Dtype \n",
      "---  ------          --------------  ----- \n",
      " 0   age             32561 non-null  int64 \n",
      " 1   workclass       32561 non-null  object\n",
      " 2   fnlwgt          32561 non-null  int64 \n",
      " 3   education       32561 non-null  object\n",
      " 4   education-num   32561 non-null  int64 \n",
      " 5   marital-status  32561 non-null  object\n",
      " 6   occupation      32561 non-null  object\n",
      " 7   relationship    32561 non-null  object\n",
      " 8   race            32561 non-null  object\n",
      " 9   sex             32561 non-null  object\n",
      " 10  capital-gain    32561 non-null  int64 \n",
      " 11  capital-loss    32561 non-null  int64 \n",
      " 12  hours-per-week  32561 non-null  int64 \n",
      " 13  native-country  32561 non-null  object\n",
      " 14  income          32561 non-null  object\n",
      "dtypes: int64(6), object(9)\n",
      "memory usage: 3.7+ MB\n"
     ]
    }
   ],
   "source": [
    "df_census.info()"
   ]
  },
  {
   "cell_type": "code",
   "execution_count": null,
   "id": "385d9269-00c9-40be-8a32-f3f8e5751ac0",
   "metadata": {},
   "outputs": [],
   "source": [
    "# EDA\n",
    "df_census = df_census.drop(['education'], axis=1)\n",
    "df_census = pd.get_dummies(df_census)\n",
    "df_census = df_census.drop('income_ <=50K', axis=1)\n",
    "df_census.head()"
   ]
  },
  {
   "cell_type": "code",
   "execution_count": null,
   "id": "14fc0319-3c74-44e8-8e7e-9fd91023bdb6",
   "metadata": {},
   "outputs": [],
   "source": [
    "#features e labels\n",
    "X = df_census.iloc[:,:-1]\n",
    "y = df_census.iloc[:,-1]"
   ]
  },
  {
   "cell_type": "markdown",
   "id": "75b4fcb8-5c43-48b9-9cf4-04c1dc2e66a2",
   "metadata": {},
   "source": [
    "### ToDo 1\n",
    "Separe o conjunto de features com suas respectivas labels em conjunto de treino e teste na proporção de 70%-30%. Use random_state=42 para reprodutibilidade."
   ]
  },
  {
   "cell_type": "code",
   "execution_count": null,
   "id": "3e14cabf-69b1-4451-8b07-25c888b3c455",
   "metadata": {},
   "outputs": [],
   "source": [
    "#resposta"
   ]
  },
  {
   "cell_type": "markdown",
   "id": "061cb2dc-e7b4-47d4-ab88-d92c461be65b",
   "metadata": {},
   "source": [
    "### ToDo 2\n",
    "\n",
    "Treine um modelo LightGBM e um modelo XGBoost nos dados acima gerados. Utilize a versão padrão de ambos os modelos. Use a biblioteca datetime para computar o tempo de treinamento de cada modelo. Avalie ambos usando a acurácia. "
   ]
  },
  {
   "cell_type": "code",
   "execution_count": null,
   "id": "2b7a53fb-54e1-4ed4-83b9-229e0ae5d0af",
   "metadata": {},
   "outputs": [],
   "source": [
    "#resposta - XGBoost"
   ]
  },
  {
   "cell_type": "code",
   "execution_count": null,
   "id": "3b797ced-7e8b-4e66-a7f0-997667a55f95",
   "metadata": {},
   "outputs": [],
   "source": [
    "#resposta - LightGBM"
   ]
  },
  {
   "cell_type": "markdown",
   "id": "22e2f090-9e17-4f27-ac23-92d0cc3f7efd",
   "metadata": {},
   "source": [
    "### ToDo 3\n",
    "\n",
    "Modifique a função grid_search, vista na aula de XGBoost, para otimizar os parametros de ambos os modelos. Agora, ela precisa permitir receber, além do conjunto de treino e respectivas respostas, o conjunto de teste e respectivas respostas.  "
   ]
  },
  {
   "cell_type": "code",
   "execution_count": null,
   "id": "b808dc95-8d69-419f-bf2b-3308b748a055",
   "metadata": {},
   "outputs": [],
   "source": [
    "# resposta"
   ]
  },
  {
   "cell_type": "markdown",
   "id": "0740e9fd-ee4d-418b-a21b-d8b2b5448bfb",
   "metadata": {},
   "source": [
    "### ToDo 4\n",
    "Otimize os hiperparâmetros que achar conveniente. Compare o tempo de treinamento e a acurácia de cada modelo\n",
    "\n",
    "* Parâmetros XGBoost -> [link](https://xgboost.readthedocs.io/en/stable/parameter.html)\n",
    "\n",
    "* Parâmetros LightGBM -> [link](https://lightgbm.readthedocs.io/en/latest/Parameters.html)"
   ]
  },
  {
   "cell_type": "code",
   "execution_count": null,
   "id": "3f38e3e1-eb02-4354-9695-e748dd196909",
   "metadata": {},
   "outputs": [],
   "source": [
    "# resposta - XGBoost"
   ]
  },
  {
   "cell_type": "code",
   "execution_count": null,
   "id": "14515a3a-f996-421b-a377-225267752f9e",
   "metadata": {},
   "outputs": [],
   "source": [
    "# resposta - LightGBM"
   ]
  },
  {
   "cell_type": "markdown",
   "id": "aa59eb88-9d0e-4523-aef6-177994356460",
   "metadata": {},
   "source": [
    "#### ToDo 5\n",
    "\n",
    "Apenas para LightGBM. Use os parametros encontrados pelo boosting e treine 4 versoes diferentes usando os diferentes tipos de boosting (gbdt, goss, dart e rf).\n",
    "\n",
    "* Obs: quando boosting_type=rf, use dois parametros adicionais\n",
    "\n",
    "    -> bagging_freq=1\n",
    "    \n",
    "    -> bagging_fraction=0.8"
   ]
  },
  {
   "cell_type": "code",
   "execution_count": null,
   "id": "e4913ae8-b352-4e1a-9faa-8eb105a6b047",
   "metadata": {},
   "outputs": [],
   "source": [
    "#GBDT"
   ]
  },
  {
   "cell_type": "code",
   "execution_count": null,
   "id": "a10111b8-0b67-4697-a356-d011ee762137",
   "metadata": {},
   "outputs": [],
   "source": [
    "#Goss"
   ]
  },
  {
   "cell_type": "code",
   "execution_count": null,
   "id": "e6e18e67-8635-4459-a897-8d6b40ae7aad",
   "metadata": {},
   "outputs": [],
   "source": [
    "#DART"
   ]
  },
  {
   "cell_type": "code",
   "execution_count": null,
   "id": "849e4c3f-ae63-476c-a034-825f771befd1",
   "metadata": {},
   "outputs": [],
   "source": [
    "#RF"
   ]
  }
 ],
 "metadata": {
  "kernelspec": {
   "display_name": "Python 3 (ipykernel)",
   "language": "python",
   "name": "python3"
  },
  "language_info": {
   "codemirror_mode": {
    "name": "ipython",
    "version": 3
   },
   "file_extension": ".py",
   "mimetype": "text/x-python",
   "name": "python",
   "nbconvert_exporter": "python",
   "pygments_lexer": "ipython3",
   "version": "3.10.9"
  }
 },
 "nbformat": 4,
 "nbformat_minor": 5
}
